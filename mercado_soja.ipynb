{
 "cells": [
  {
   "attachments": {},
   "cell_type": "markdown",
   "metadata": {},
   "source": [
    "## Setup inicial"
   ]
  },
  {
   "cell_type": "code",
   "execution_count": 5,
   "metadata": {},
   "outputs": [],
   "source": [
    "#!pip install wget\n",
    "#!pip install -U sidrapy\n",
    "#!pip install openpyxl\n",
    "\n",
    "# Importando bibliotecas necessárias\n",
    "import sidrapy\n",
    "import pandas as pd\n",
    "import seaborn as sns\n",
    "import matplotlib.pyplot as plt\n",
    "from etl import * # Importa as classes criadas para um código mais limpo\n",
    "\n",
    "municípios_mt = pd.read_csv('tabelas/municipios_mt.csv')\n",
    "dados = data_get(2018, 2021)"
   ]
  },
  {
   "attachments": {},
   "cell_type": "markdown",
   "metadata": {},
   "source": [
    "## Dados referentes à produção de soja"
   ]
  },
  {
   "cell_type": "code",
   "execution_count": 2,
   "metadata": {},
   "outputs": [
    {
     "data": {
      "text/html": [
       "<div>\n",
       "<style scoped>\n",
       "    .dataframe tbody tr th:only-of-type {\n",
       "        vertical-align: middle;\n",
       "    }\n",
       "\n",
       "    .dataframe tbody tr th {\n",
       "        vertical-align: top;\n",
       "    }\n",
       "\n",
       "    .dataframe thead th {\n",
       "        text-align: right;\n",
       "    }\n",
       "</style>\n",
       "<table border=\"1\" class=\"dataframe\">\n",
       "  <thead>\n",
       "    <tr style=\"text-align: right;\">\n",
       "      <th></th>\n",
       "      <th>Município</th>\n",
       "      <th>Quantidade produzida (Toneladas)</th>\n",
       "      <th>Valor da produção (Mil Reais)</th>\n",
       "      <th>Área plantada ou destinada à colheita (Hectares)</th>\n",
       "      <th>Área plantada ou destinada à colheita - percentual do total geral (Percentual)</th>\n",
       "    </tr>\n",
       "    <tr>\n",
       "      <th>Ano</th>\n",
       "      <th></th>\n",
       "      <th></th>\n",
       "      <th></th>\n",
       "      <th></th>\n",
       "      <th></th>\n",
       "    </tr>\n",
       "  </thead>\n",
       "  <tbody>\n",
       "    <tr>\n",
       "      <th>2018</th>\n",
       "      <td>Acorizal (MT)</td>\n",
       "      <td>0.0</td>\n",
       "      <td>0.0</td>\n",
       "      <td>0.0</td>\n",
       "      <td>0.00</td>\n",
       "    </tr>\n",
       "    <tr>\n",
       "      <th>2018</th>\n",
       "      <td>Alta Floresta (MT)</td>\n",
       "      <td>66006.0</td>\n",
       "      <td>79207.0</td>\n",
       "      <td>20002.0</td>\n",
       "      <td>57.51</td>\n",
       "    </tr>\n",
       "    <tr>\n",
       "      <th>2018</th>\n",
       "      <td>Alto Araguaia (MT)</td>\n",
       "      <td>99830.0</td>\n",
       "      <td>99830.0</td>\n",
       "      <td>31393.0</td>\n",
       "      <td>62.65</td>\n",
       "    </tr>\n",
       "    <tr>\n",
       "      <th>2018</th>\n",
       "      <td>Alto Boa Vista (MT)</td>\n",
       "      <td>73853.0</td>\n",
       "      <td>66468.0</td>\n",
       "      <td>23671.0</td>\n",
       "      <td>74.92</td>\n",
       "    </tr>\n",
       "    <tr>\n",
       "      <th>2018</th>\n",
       "      <td>Alto Garças (MT)</td>\n",
       "      <td>306900.0</td>\n",
       "      <td>306900.0</td>\n",
       "      <td>93000.0</td>\n",
       "      <td>67.43</td>\n",
       "    </tr>\n",
       "    <tr>\n",
       "      <th>...</th>\n",
       "      <td>...</td>\n",
       "      <td>...</td>\n",
       "      <td>...</td>\n",
       "      <td>...</td>\n",
       "      <td>...</td>\n",
       "    </tr>\n",
       "    <tr>\n",
       "      <th>2021</th>\n",
       "      <td>Vera (MT)</td>\n",
       "      <td>508200.0</td>\n",
       "      <td>1260245.0</td>\n",
       "      <td>155000.0</td>\n",
       "      <td>53.35</td>\n",
       "    </tr>\n",
       "    <tr>\n",
       "      <th>2021</th>\n",
       "      <td>Vila Bela da Santíssima Trindade (MT)</td>\n",
       "      <td>134025.0</td>\n",
       "      <td>344042.0</td>\n",
       "      <td>38513.0</td>\n",
       "      <td>64.44</td>\n",
       "    </tr>\n",
       "    <tr>\n",
       "      <th>2021</th>\n",
       "      <td>Vila Rica (MT)</td>\n",
       "      <td>180000.0</td>\n",
       "      <td>464940.0</td>\n",
       "      <td>45000.0</td>\n",
       "      <td>64.02</td>\n",
       "    </tr>\n",
       "    <tr>\n",
       "      <th>2021</th>\n",
       "      <td>Várzea Grande (MT)</td>\n",
       "      <td>0.0</td>\n",
       "      <td>0.0</td>\n",
       "      <td>0.0</td>\n",
       "      <td>0.00</td>\n",
       "    </tr>\n",
       "    <tr>\n",
       "      <th>2021</th>\n",
       "      <td>Água Boa (MT)</td>\n",
       "      <td>609000.0</td>\n",
       "      <td>1412880.0</td>\n",
       "      <td>175000.0</td>\n",
       "      <td>79.60</td>\n",
       "    </tr>\n",
       "  </tbody>\n",
       "</table>\n",
       "<p>564 rows × 5 columns</p>\n",
       "</div>"
      ],
      "text/plain": [
       "                                  Município  Quantidade produzida (Toneladas)  \\\n",
       "Ano                                                                             \n",
       "2018                          Acorizal (MT)                               0.0   \n",
       "2018                     Alta Floresta (MT)                           66006.0   \n",
       "2018                     Alto Araguaia (MT)                           99830.0   \n",
       "2018                    Alto Boa Vista (MT)                           73853.0   \n",
       "2018                       Alto Garças (MT)                          306900.0   \n",
       "...                                     ...                               ...   \n",
       "2021                              Vera (MT)                          508200.0   \n",
       "2021  Vila Bela da Santíssima Trindade (MT)                          134025.0   \n",
       "2021                         Vila Rica (MT)                          180000.0   \n",
       "2021                     Várzea Grande (MT)                               0.0   \n",
       "2021                          Água Boa (MT)                          609000.0   \n",
       "\n",
       "      Valor da produção (Mil Reais)  \\\n",
       "Ano                                   \n",
       "2018                            0.0   \n",
       "2018                        79207.0   \n",
       "2018                        99830.0   \n",
       "2018                        66468.0   \n",
       "2018                       306900.0   \n",
       "...                             ...   \n",
       "2021                      1260245.0   \n",
       "2021                       344042.0   \n",
       "2021                       464940.0   \n",
       "2021                            0.0   \n",
       "2021                      1412880.0   \n",
       "\n",
       "      Área plantada ou destinada à colheita (Hectares)  \\\n",
       "Ano                                                      \n",
       "2018                                               0.0   \n",
       "2018                                           20002.0   \n",
       "2018                                           31393.0   \n",
       "2018                                           23671.0   \n",
       "2018                                           93000.0   \n",
       "...                                                ...   \n",
       "2021                                          155000.0   \n",
       "2021                                           38513.0   \n",
       "2021                                           45000.0   \n",
       "2021                                               0.0   \n",
       "2021                                          175000.0   \n",
       "\n",
       "      Área plantada ou destinada à colheita - percentual do total geral (Percentual)  \n",
       "Ano                                                                                   \n",
       "2018                                               0.00                               \n",
       "2018                                              57.51                               \n",
       "2018                                              62.65                               \n",
       "2018                                              74.92                               \n",
       "2018                                              67.43                               \n",
       "...                                                 ...                               \n",
       "2021                                              53.35                               \n",
       "2021                                              64.44                               \n",
       "2021                                              64.02                               \n",
       "2021                                               0.00                               \n",
       "2021                                              79.60                               \n",
       "\n",
       "[564 rows x 5 columns]"
      ]
     },
     "execution_count": 2,
     "metadata": {},
     "output_type": "execute_result"
    }
   ],
   "source": [
    "dados.soy()\n",
    "soja = pd.read_csv('tabelas/prod_soja_mt_2018_2021.csv', index_col = ['Ano'])\n",
    "soja"
   ]
  },
  {
   "cell_type": "code",
   "execution_count": 3,
   "metadata": {},
   "outputs": [],
   "source": [
    "top10_valor_2021 = soja.loc[2021][['Município','Valor da produção (Mil Reais)']].sort_values(by = 'Valor da produção (Mil Reais)', ascending = False).head(10)\n",
    "top10_valor_2021\n",
    "\n",
    "top10_municipios = top10_valor_2021['Município']"
   ]
  },
  {
   "cell_type": "code",
   "execution_count": 5,
   "metadata": {},
   "outputs": [
    {
     "ename": "NameError",
     "evalue": "name 'cidades_top10' is not defined",
     "output_type": "error",
     "traceback": [
      "\u001b[0;31m---------------------------------------------------------------------------\u001b[0m",
      "\u001b[0;31mNameError\u001b[0m                                 Traceback (most recent call last)",
      "Cell \u001b[0;32mIn [5], line 5\u001b[0m\n\u001b[1;32m      2\u001b[0m \u001b[39mimport\u001b[39;00m \u001b[39mmatplotlib\u001b[39;00m\u001b[39m.\u001b[39;00m\u001b[39mpyplot\u001b[39;00m \u001b[39mas\u001b[39;00m \u001b[39mplt\u001b[39;00m\n\u001b[1;32m      4\u001b[0m plt\u001b[39m.\u001b[39mfigure(figsize \u001b[39m=\u001b[39m (\u001b[39m18\u001b[39m,\u001b[39m8\u001b[39m))\n\u001b[0;32m----> 5\u001b[0m palette \u001b[39m=\u001b[39m sns\u001b[39m.\u001b[39mcolor_palette(\u001b[39m\"\u001b[39m\u001b[39mpastel\u001b[39m\u001b[39m\"\u001b[39m, \u001b[39mlen\u001b[39m(cidades_top10\u001b[39m.\u001b[39mindex))\n\u001b[1;32m      6\u001b[0m ax \u001b[39m=\u001b[39m sns\u001b[39m.\u001b[39mbarplot(y \u001b[39m=\u001b[39m cidades_top10[\u001b[39m'\u001b[39m\u001b[39mValor da produção (Mil Reais)\u001b[39m\u001b[39m'\u001b[39m], x \u001b[39m=\u001b[39m [\u001b[39mf\u001b[39m\u001b[39m'\u001b[39m\u001b[39m{\u001b[39;00mcity[\u001b[39m0\u001b[39m:\u001b[39mlen\u001b[39m(city)\u001b[39m-\u001b[39m\u001b[39m4\u001b[39m]\u001b[39m}\u001b[39;00m\u001b[39m'\u001b[39m \u001b[39mfor\u001b[39;00m city \u001b[39min\u001b[39;00m cidades_top10\u001b[39m.\u001b[39mindex], palette\u001b[39m=\u001b[39m palette)\n\u001b[1;32m      8\u001b[0m \u001b[39mfor\u001b[39;00m i \u001b[39min\u001b[39;00m ax\u001b[39m.\u001b[39mcontainers:\n",
      "\u001b[0;31mNameError\u001b[0m: name 'cidades_top10' is not defined"
     ]
    },
    {
     "data": {
      "text/plain": [
       "<Figure size 1800x800 with 0 Axes>"
      ]
     },
     "metadata": {},
     "output_type": "display_data"
    }
   ],
   "source": [
    "plt.figure(figsize = (18,8))\n",
    "palette = sns.color_palette(\"pastel\", len(cidades_top10.index))\n",
    "ax = sns.barplot(y = cidades_top10['Valor da produção (Mil Reais)'], x = [f'{city[0:len(city)-4]}' for city in cidades_top10.index], palette= palette)\n",
    "\n",
    "for i in ax.containers:\n",
    "    ax.bar_label(i,)\n",
    "plt.show()"
   ]
  },
  {
   "attachments": {},
   "cell_type": "markdown",
   "metadata": {},
   "source": [
    "## Dados referentes aos custos de produção"
   ]
  },
  {
   "cell_type": "code",
   "execution_count": 6,
   "metadata": {},
   "outputs": [
    {
     "ename": "UnboundLocalError",
     "evalue": "local variable 'custo_anual' referenced before assignment",
     "output_type": "error",
     "traceback": [
      "\u001b[0;31m---------------------------------------------------------------------------\u001b[0m",
      "\u001b[0;31mUnboundLocalError\u001b[0m                         Traceback (most recent call last)",
      "Cell \u001b[0;32mIn [6], line 1\u001b[0m\n\u001b[0;32m----> 1\u001b[0m dados\u001b[39m.\u001b[39;49mcosts(top10_municipios)\n",
      "File \u001b[0;32m~/Documentos/GitHub-repos/An-liseMercadoSoja/etl.py:60\u001b[0m, in \u001b[0;36mdata_get.costs\u001b[0;34m(self, cidades_mt)\u001b[0m\n\u001b[1;32m     58\u001b[0m             custos \u001b[39m=\u001b[39m custos[custos\u001b[39m.\u001b[39mcolumns[\u001b[39m0\u001b[39m:\u001b[39m2\u001b[39m]]\n\u001b[1;32m     59\u001b[0m             custos\u001b[39m.\u001b[39mcolumns \u001b[39m=\u001b[39m [\u001b[39m'\u001b[39m\u001b[39mConta\u001b[39m\u001b[39m'\u001b[39m, \u001b[39mf\u001b[39m\u001b[39m'\u001b[39m\u001b[39m{\u001b[39;00myear\u001b[39m}\u001b[39;00m\u001b[39m'\u001b[39m]\n\u001b[0;32m---> 60\u001b[0m             custo_anual\u001b[39m.\u001b[39mmerge(custo, how \u001b[39m=\u001b[39m \u001b[39m'\u001b[39m\u001b[39mfull\u001b[39m\u001b[39m'\u001b[39m, on \u001b[39m=\u001b[39m \u001b[39m'\u001b[39m\u001b[39mConta\u001b[39m\u001b[39m'\u001b[39m)\n\u001b[1;32m     61\u001b[0m custo_anual\u001b[39m.\u001b[39mto_csv(\u001b[39mf\u001b[39m\u001b[39m'\u001b[39m\u001b[39mtabelas/custos/custo_anual_\u001b[39m\u001b[39m{\u001b[39;00mcidade\u001b[39m}\u001b[39;00m\u001b[39m_de_\u001b[39m\u001b[39m{\u001b[39;00m\u001b[39mself\u001b[39m\u001b[39m.\u001b[39mbegin\u001b[39m}\u001b[39;00m\u001b[39m_ate_\u001b[39m\u001b[39m{\u001b[39;00m\u001b[39mself\u001b[39m\u001b[39m.\u001b[39mend\u001b[39m}\u001b[39;00m\u001b[39m.csv\u001b[39m\u001b[39m'\u001b[39m)\n",
      "\u001b[0;31mUnboundLocalError\u001b[0m: local variable 'custo_anual' referenced before assignment"
     ]
    }
   ],
   "source": [
    "dados.costs(top10_municipios)"
   ]
  },
  {
   "cell_type": "code",
   "execution_count": 6,
   "metadata": {},
   "outputs": [
    {
     "name": "stdout",
     "output_type": "stream",
     "text": [
      "Defaulting to user installation because normal site-packages is not writeable\n",
      "Collecting xlrd\n",
      "  Downloading xlrd-2.0.1-py2.py3-none-any.whl (96 kB)\n",
      "\u001b[2K     \u001b[90m━━━━━━━━━━━━━━━━━━━━━━━━━━━━━━━━━━━━━━━━\u001b[0m \u001b[32m96.5/96.5 kB\u001b[0m \u001b[31m1.9 MB/s\u001b[0m eta \u001b[36m0:00:00\u001b[0ma \u001b[36m0:00:01\u001b[0m\n",
      "\u001b[?25hInstalling collected packages: xlrd\n",
      "Successfully installed xlrd-2.0.1\n",
      "--- Logging error ---\n",
      "Traceback (most recent call last):\n",
      "  File \"/home/luiz/.local/lib/python3.10/site-packages/pip/_internal/utils/logging.py\", line 177, in emit\n",
      "    self.console.print(renderable, overflow=\"ignore\", crop=False, style=style)\n",
      "  File \"/home/luiz/.local/lib/python3.10/site-packages/pip/_vendor/rich/console.py\", line 1673, in print\n",
      "    extend(render(renderable, render_options))\n",
      "  File \"/home/luiz/.local/lib/python3.10/site-packages/pip/_vendor/rich/console.py\", line 1305, in render\n",
      "    for render_output in iter_render:\n",
      "  File \"/home/luiz/.local/lib/python3.10/site-packages/pip/_internal/utils/logging.py\", line 134, in __rich_console__\n",
      "    for line in lines:\n",
      "  File \"/home/luiz/.local/lib/python3.10/site-packages/pip/_vendor/rich/segment.py\", line 249, in split_lines\n",
      "    for segment in segments:\n",
      "  File \"/home/luiz/.local/lib/python3.10/site-packages/pip/_vendor/rich/console.py\", line 1283, in render\n",
      "    renderable = rich_cast(renderable)\n",
      "  File \"/home/luiz/.local/lib/python3.10/site-packages/pip/_vendor/rich/protocol.py\", line 36, in rich_cast\n",
      "    renderable = cast_method()\n",
      "  File \"/home/luiz/.local/lib/python3.10/site-packages/pip/_internal/self_outdated_check.py\", line 130, in __rich__\n",
      "    pip_cmd = get_best_invocation_for_this_pip()\n",
      "  File \"/home/luiz/.local/lib/python3.10/site-packages/pip/_internal/utils/entrypoints.py\", line 58, in get_best_invocation_for_this_pip\n",
      "    if found_executable and os.path.samefile(\n",
      "  File \"/usr/lib/python3.10/genericpath.py\", line 101, in samefile\n",
      "    s2 = os.stat(f2)\n",
      "FileNotFoundError: [Errno 2] Arquivo ou diretório inexistente: '/usr/bin/pip'\n",
      "Call stack:\n",
      "  File \"/home/luiz/.local/bin/pip\", line 8, in <module>\n",
      "    sys.exit(main())\n",
      "  File \"/home/luiz/.local/lib/python3.10/site-packages/pip/_internal/cli/main.py\", line 70, in main\n",
      "    return command.main(cmd_args)\n",
      "  File \"/home/luiz/.local/lib/python3.10/site-packages/pip/_internal/cli/base_command.py\", line 101, in main\n",
      "    return self._main(args)\n",
      "  File \"/home/luiz/.local/lib/python3.10/site-packages/pip/_internal/cli/base_command.py\", line 223, in _main\n",
      "    self.handle_pip_version_check(options)\n",
      "  File \"/home/luiz/.local/lib/python3.10/site-packages/pip/_internal/cli/req_command.py\", line 190, in handle_pip_version_check\n",
      "    pip_self_version_check(session, options)\n",
      "  File \"/home/luiz/.local/lib/python3.10/site-packages/pip/_internal/self_outdated_check.py\", line 236, in pip_self_version_check\n",
      "    logger.warning(\"[present-rich] %s\", upgrade_prompt)\n",
      "  File \"/usr/lib/python3.10/logging/__init__.py\", line 1489, in warning\n",
      "    self._log(WARNING, msg, args, **kwargs)\n",
      "  File \"/usr/lib/python3.10/logging/__init__.py\", line 1624, in _log\n",
      "    self.handle(record)\n",
      "  File \"/usr/lib/python3.10/logging/__init__.py\", line 1634, in handle\n",
      "    self.callHandlers(record)\n",
      "  File \"/usr/lib/python3.10/logging/__init__.py\", line 1696, in callHandlers\n",
      "    hdlr.handle(record)\n",
      "  File \"/usr/lib/python3.10/logging/__init__.py\", line 968, in handle\n",
      "    self.emit(record)\n",
      "  File \"/home/luiz/.local/lib/python3.10/site-packages/pip/_internal/utils/logging.py\", line 179, in emit\n",
      "    self.handleError(record)\n",
      "Message: '[present-rich] %s'\n",
      "Arguments: (UpgradePrompt(old='22.2.2', new='22.3.1'),)\n"
     ]
    }
   ],
   "source": [
    "!pip install xlrd"
   ]
  },
  {
   "cell_type": "code",
   "execution_count": null,
   "metadata": {},
   "outputs": [],
   "source": []
  }
 ],
 "metadata": {
  "kernelspec": {
   "display_name": "Python 3",
   "language": "python",
   "name": "python3"
  },
  "language_info": {
   "codemirror_mode": {
    "name": "ipython",
    "version": 3
   },
   "file_extension": ".py",
   "mimetype": "text/x-python",
   "name": "python",
   "nbconvert_exporter": "python",
   "pygments_lexer": "ipython3",
   "version": "3.10.8"
  },
  "orig_nbformat": 4,
  "vscode": {
   "interpreter": {
    "hash": "e7370f93d1d0cde622a1f8e1c04877d8463912d04d973331ad4851f04de6915a"
   }
  }
 },
 "nbformat": 4,
 "nbformat_minor": 2
}
